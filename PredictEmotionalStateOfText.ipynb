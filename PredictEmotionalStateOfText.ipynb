{
  "nbformat": 4,
  "nbformat_minor": 0,
  "metadata": {
    "colab": {
      "provenance": []
    },
    "kernelspec": {
      "name": "python3",
      "display_name": "Python 3"
    },
    "language_info": {
      "name": "python"
    }
  },
  "cells": [
    {
      "cell_type": "markdown",
      "source": [
        "Details about the dataset:\n",
        "\n",
        "\n",
        "*   1st column - index of the row\n",
        "*   2nd column - twitter message content\n",
        "*   3rd column - emotional label\n",
        "\n",
        "emotions are categorised under six categories as sadness_0, joy_1, love_2, anger_3, fear_4, surprise_5"
      ],
      "metadata": {
        "id": "KPOW2SFrBAI9"
      }
    },
    {
      "cell_type": "code",
      "source": [
        "import pandas as pd\n",
        "\n",
        "df = pd.read_csv('/content/text.csv', encoding='utf-8')\n",
        "\n",
        "df.head()\n"
      ],
      "metadata": {
        "colab": {
          "base_uri": "https://localhost:8080/",
          "height": 206
        },
        "id": "CFlNSuzjA-Uz",
        "outputId": "c9f426fc-22c0-4d33-f027-92f467b55efe"
      },
      "execution_count": null,
      "outputs": [
        {
          "output_type": "execute_result",
          "data": {
            "text/plain": [
              "   Unnamed: 0                                               text  label\n",
              "0           0      i just feel really helpless and heavy hearted    4.0\n",
              "1           1  ive enjoyed being able to slouch about relax a...    0.0\n",
              "2           2  i gave up my internship with the dmrg and am f...    4.0\n",
              "3           3                         i dont know i feel so lost    0.0\n",
              "4           4  i am a kindergarten teacher and i am thoroughl...    4.0"
            ],
            "text/html": [
              "\n",
              "  <div id=\"df-661d28ac-16f4-4d82-8c03-3c241a9c0658\" class=\"colab-df-container\">\n",
              "    <div>\n",
              "<style scoped>\n",
              "    .dataframe tbody tr th:only-of-type {\n",
              "        vertical-align: middle;\n",
              "    }\n",
              "\n",
              "    .dataframe tbody tr th {\n",
              "        vertical-align: top;\n",
              "    }\n",
              "\n",
              "    .dataframe thead th {\n",
              "        text-align: right;\n",
              "    }\n",
              "</style>\n",
              "<table border=\"1\" class=\"dataframe\">\n",
              "  <thead>\n",
              "    <tr style=\"text-align: right;\">\n",
              "      <th></th>\n",
              "      <th>Unnamed: 0</th>\n",
              "      <th>text</th>\n",
              "      <th>label</th>\n",
              "    </tr>\n",
              "  </thead>\n",
              "  <tbody>\n",
              "    <tr>\n",
              "      <th>0</th>\n",
              "      <td>0</td>\n",
              "      <td>i just feel really helpless and heavy hearted</td>\n",
              "      <td>4.0</td>\n",
              "    </tr>\n",
              "    <tr>\n",
              "      <th>1</th>\n",
              "      <td>1</td>\n",
              "      <td>ive enjoyed being able to slouch about relax a...</td>\n",
              "      <td>0.0</td>\n",
              "    </tr>\n",
              "    <tr>\n",
              "      <th>2</th>\n",
              "      <td>2</td>\n",
              "      <td>i gave up my internship with the dmrg and am f...</td>\n",
              "      <td>4.0</td>\n",
              "    </tr>\n",
              "    <tr>\n",
              "      <th>3</th>\n",
              "      <td>3</td>\n",
              "      <td>i dont know i feel so lost</td>\n",
              "      <td>0.0</td>\n",
              "    </tr>\n",
              "    <tr>\n",
              "      <th>4</th>\n",
              "      <td>4</td>\n",
              "      <td>i am a kindergarten teacher and i am thoroughl...</td>\n",
              "      <td>4.0</td>\n",
              "    </tr>\n",
              "  </tbody>\n",
              "</table>\n",
              "</div>\n",
              "    <div class=\"colab-df-buttons\">\n",
              "\n",
              "  <div class=\"colab-df-container\">\n",
              "    <button class=\"colab-df-convert\" onclick=\"convertToInteractive('df-661d28ac-16f4-4d82-8c03-3c241a9c0658')\"\n",
              "            title=\"Convert this dataframe to an interactive table.\"\n",
              "            style=\"display:none;\">\n",
              "\n",
              "  <svg xmlns=\"http://www.w3.org/2000/svg\" height=\"24px\" viewBox=\"0 -960 960 960\">\n",
              "    <path d=\"M120-120v-720h720v720H120Zm60-500h600v-160H180v160Zm220 220h160v-160H400v160Zm0 220h160v-160H400v160ZM180-400h160v-160H180v160Zm440 0h160v-160H620v160ZM180-180h160v-160H180v160Zm440 0h160v-160H620v160Z\"/>\n",
              "  </svg>\n",
              "    </button>\n",
              "\n",
              "  <style>\n",
              "    .colab-df-container {\n",
              "      display:flex;\n",
              "      gap: 12px;\n",
              "    }\n",
              "\n",
              "    .colab-df-convert {\n",
              "      background-color: #E8F0FE;\n",
              "      border: none;\n",
              "      border-radius: 50%;\n",
              "      cursor: pointer;\n",
              "      display: none;\n",
              "      fill: #1967D2;\n",
              "      height: 32px;\n",
              "      padding: 0 0 0 0;\n",
              "      width: 32px;\n",
              "    }\n",
              "\n",
              "    .colab-df-convert:hover {\n",
              "      background-color: #E2EBFA;\n",
              "      box-shadow: 0px 1px 2px rgba(60, 64, 67, 0.3), 0px 1px 3px 1px rgba(60, 64, 67, 0.15);\n",
              "      fill: #174EA6;\n",
              "    }\n",
              "\n",
              "    .colab-df-buttons div {\n",
              "      margin-bottom: 4px;\n",
              "    }\n",
              "\n",
              "    [theme=dark] .colab-df-convert {\n",
              "      background-color: #3B4455;\n",
              "      fill: #D2E3FC;\n",
              "    }\n",
              "\n",
              "    [theme=dark] .colab-df-convert:hover {\n",
              "      background-color: #434B5C;\n",
              "      box-shadow: 0px 1px 3px 1px rgba(0, 0, 0, 0.15);\n",
              "      filter: drop-shadow(0px 1px 2px rgba(0, 0, 0, 0.3));\n",
              "      fill: #FFFFFF;\n",
              "    }\n",
              "  </style>\n",
              "\n",
              "    <script>\n",
              "      const buttonEl =\n",
              "        document.querySelector('#df-661d28ac-16f4-4d82-8c03-3c241a9c0658 button.colab-df-convert');\n",
              "      buttonEl.style.display =\n",
              "        google.colab.kernel.accessAllowed ? 'block' : 'none';\n",
              "\n",
              "      async function convertToInteractive(key) {\n",
              "        const element = document.querySelector('#df-661d28ac-16f4-4d82-8c03-3c241a9c0658');\n",
              "        const dataTable =\n",
              "          await google.colab.kernel.invokeFunction('convertToInteractive',\n",
              "                                                    [key], {});\n",
              "        if (!dataTable) return;\n",
              "\n",
              "        const docLinkHtml = 'Like what you see? Visit the ' +\n",
              "          '<a target=\"_blank\" href=https://colab.research.google.com/notebooks/data_table.ipynb>data table notebook</a>'\n",
              "          + ' to learn more about interactive tables.';\n",
              "        element.innerHTML = '';\n",
              "        dataTable['output_type'] = 'display_data';\n",
              "        await google.colab.output.renderOutput(dataTable, element);\n",
              "        const docLink = document.createElement('div');\n",
              "        docLink.innerHTML = docLinkHtml;\n",
              "        element.appendChild(docLink);\n",
              "      }\n",
              "    </script>\n",
              "  </div>\n",
              "\n",
              "\n",
              "<div id=\"df-a9401c13-34c6-4b44-ae3c-d31207598070\">\n",
              "  <button class=\"colab-df-quickchart\" onclick=\"quickchart('df-a9401c13-34c6-4b44-ae3c-d31207598070')\"\n",
              "            title=\"Suggest charts\"\n",
              "            style=\"display:none;\">\n",
              "\n",
              "<svg xmlns=\"http://www.w3.org/2000/svg\" height=\"24px\"viewBox=\"0 0 24 24\"\n",
              "     width=\"24px\">\n",
              "    <g>\n",
              "        <path d=\"M19 3H5c-1.1 0-2 .9-2 2v14c0 1.1.9 2 2 2h14c1.1 0 2-.9 2-2V5c0-1.1-.9-2-2-2zM9 17H7v-7h2v7zm4 0h-2V7h2v10zm4 0h-2v-4h2v4z\"/>\n",
              "    </g>\n",
              "</svg>\n",
              "  </button>\n",
              "\n",
              "<style>\n",
              "  .colab-df-quickchart {\n",
              "      --bg-color: #E8F0FE;\n",
              "      --fill-color: #1967D2;\n",
              "      --hover-bg-color: #E2EBFA;\n",
              "      --hover-fill-color: #174EA6;\n",
              "      --disabled-fill-color: #AAA;\n",
              "      --disabled-bg-color: #DDD;\n",
              "  }\n",
              "\n",
              "  [theme=dark] .colab-df-quickchart {\n",
              "      --bg-color: #3B4455;\n",
              "      --fill-color: #D2E3FC;\n",
              "      --hover-bg-color: #434B5C;\n",
              "      --hover-fill-color: #FFFFFF;\n",
              "      --disabled-bg-color: #3B4455;\n",
              "      --disabled-fill-color: #666;\n",
              "  }\n",
              "\n",
              "  .colab-df-quickchart {\n",
              "    background-color: var(--bg-color);\n",
              "    border: none;\n",
              "    border-radius: 50%;\n",
              "    cursor: pointer;\n",
              "    display: none;\n",
              "    fill: var(--fill-color);\n",
              "    height: 32px;\n",
              "    padding: 0;\n",
              "    width: 32px;\n",
              "  }\n",
              "\n",
              "  .colab-df-quickchart:hover {\n",
              "    background-color: var(--hover-bg-color);\n",
              "    box-shadow: 0 1px 2px rgba(60, 64, 67, 0.3), 0 1px 3px 1px rgba(60, 64, 67, 0.15);\n",
              "    fill: var(--button-hover-fill-color);\n",
              "  }\n",
              "\n",
              "  .colab-df-quickchart-complete:disabled,\n",
              "  .colab-df-quickchart-complete:disabled:hover {\n",
              "    background-color: var(--disabled-bg-color);\n",
              "    fill: var(--disabled-fill-color);\n",
              "    box-shadow: none;\n",
              "  }\n",
              "\n",
              "  .colab-df-spinner {\n",
              "    border: 2px solid var(--fill-color);\n",
              "    border-color: transparent;\n",
              "    border-bottom-color: var(--fill-color);\n",
              "    animation:\n",
              "      spin 1s steps(1) infinite;\n",
              "  }\n",
              "\n",
              "  @keyframes spin {\n",
              "    0% {\n",
              "      border-color: transparent;\n",
              "      border-bottom-color: var(--fill-color);\n",
              "      border-left-color: var(--fill-color);\n",
              "    }\n",
              "    20% {\n",
              "      border-color: transparent;\n",
              "      border-left-color: var(--fill-color);\n",
              "      border-top-color: var(--fill-color);\n",
              "    }\n",
              "    30% {\n",
              "      border-color: transparent;\n",
              "      border-left-color: var(--fill-color);\n",
              "      border-top-color: var(--fill-color);\n",
              "      border-right-color: var(--fill-color);\n",
              "    }\n",
              "    40% {\n",
              "      border-color: transparent;\n",
              "      border-right-color: var(--fill-color);\n",
              "      border-top-color: var(--fill-color);\n",
              "    }\n",
              "    60% {\n",
              "      border-color: transparent;\n",
              "      border-right-color: var(--fill-color);\n",
              "    }\n",
              "    80% {\n",
              "      border-color: transparent;\n",
              "      border-right-color: var(--fill-color);\n",
              "      border-bottom-color: var(--fill-color);\n",
              "    }\n",
              "    90% {\n",
              "      border-color: transparent;\n",
              "      border-bottom-color: var(--fill-color);\n",
              "    }\n",
              "  }\n",
              "</style>\n",
              "\n",
              "  <script>\n",
              "    async function quickchart(key) {\n",
              "      const quickchartButtonEl =\n",
              "        document.querySelector('#' + key + ' button');\n",
              "      quickchartButtonEl.disabled = true;  // To prevent multiple clicks.\n",
              "      quickchartButtonEl.classList.add('colab-df-spinner');\n",
              "      try {\n",
              "        const charts = await google.colab.kernel.invokeFunction(\n",
              "            'suggestCharts', [key], {});\n",
              "      } catch (error) {\n",
              "        console.error('Error during call to suggestCharts:', error);\n",
              "      }\n",
              "      quickchartButtonEl.classList.remove('colab-df-spinner');\n",
              "      quickchartButtonEl.classList.add('colab-df-quickchart-complete');\n",
              "    }\n",
              "    (() => {\n",
              "      let quickchartButtonEl =\n",
              "        document.querySelector('#df-a9401c13-34c6-4b44-ae3c-d31207598070 button');\n",
              "      quickchartButtonEl.style.display =\n",
              "        google.colab.kernel.accessAllowed ? 'block' : 'none';\n",
              "    })();\n",
              "  </script>\n",
              "</div>\n",
              "\n",
              "    </div>\n",
              "  </div>\n"
            ],
            "application/vnd.google.colaboratory.intrinsic+json": {
              "type": "dataframe",
              "variable_name": "df",
              "summary": "{\n  \"name\": \"df\",\n  \"rows\": 98066,\n  \"fields\": [\n    {\n      \"column\": \"Unnamed: 0\",\n      \"properties\": {\n        \"dtype\": \"number\",\n        \"std\": 28309,\n        \"min\": 0,\n        \"max\": 98065,\n        \"num_unique_values\": 98066,\n        \"samples\": [\n          88943,\n          40145,\n          58441\n        ],\n        \"semantic_type\": \"\",\n        \"description\": \"\"\n      }\n    },\n    {\n      \"column\": \"text\",\n      \"properties\": {\n        \"dtype\": \"string\",\n        \"num_unique_values\": 96791,\n        \"samples\": [\n          \"i started feeling intimidated by my peers\",\n          \"i keep my eye on the bank but if the clothes doesn t make me feel my super sexy prim and classic self it gets binned\",\n          \"i could just leave the yoga class whenever i want but i would feel really rude peacing out in the middle\"\n        ],\n        \"semantic_type\": \"\",\n        \"description\": \"\"\n      }\n    },\n    {\n      \"column\": \"label\",\n      \"properties\": {\n        \"dtype\": \"number\",\n        \"std\": 1.4918714719436905,\n        \"min\": 0.0,\n        \"max\": 5.0,\n        \"num_unique_values\": 6,\n        \"samples\": [\n          4.0,\n          0.0,\n          3.0\n        ],\n        \"semantic_type\": \"\",\n        \"description\": \"\"\n      }\n    }\n  ]\n}"
            }
          },
          "metadata": {},
          "execution_count": 15
        }
      ]
    },
    {
      "cell_type": "code",
      "source": [
        "# Check for null values\n",
        "null_counts = df.isnull().sum()\n",
        "\n",
        "# Print the null value counts\n",
        "print(null_counts)"
      ],
      "metadata": {
        "colab": {
          "base_uri": "https://localhost:8080/"
        },
        "id": "WwV8_wHOPWJU",
        "outputId": "72302037-49a5-4163-9d83-f91b9f07a47c"
      },
      "execution_count": null,
      "outputs": [
        {
          "output_type": "stream",
          "name": "stdout",
          "text": [
            "Unnamed: 0    0\n",
            "text          0\n",
            "label         1\n",
            "dtype: int64\n"
          ]
        }
      ]
    },
    {
      "cell_type": "code",
      "source": [
        "df_filtered = df.dropna()"
      ],
      "metadata": {
        "id": "pY70hZQ8Py21"
      },
      "execution_count": null,
      "outputs": []
    },
    {
      "cell_type": "code",
      "source": [
        "# prompt: get the text section in the df and label under two variables\n",
        "\n",
        "text = df_filtered['text'].values\n",
        "label = df_filtered['label'].values\n",
        "\n",
        "print(text.shape)\n",
        "print(label.shape)\n"
      ],
      "metadata": {
        "colab": {
          "base_uri": "https://localhost:8080/"
        },
        "id": "q3WJ6egTDecA",
        "outputId": "76b5872b-c27a-4a89-c4c3-3b7179624b4a"
      },
      "execution_count": null,
      "outputs": [
        {
          "output_type": "stream",
          "name": "stdout",
          "text": [
            "(98065,)\n",
            "(98065,)\n"
          ]
        }
      ]
    },
    {
      "cell_type": "code",
      "source": [
        "vocab_size = 50000\n",
        "embedding_dim = 16\n",
        "max_length = 3000\n",
        "trunc_type='post'\n",
        "padding_type='post'\n",
        "oov_tok = \"<OOV>\"\n",
        "training_size = 80000"
      ],
      "metadata": {
        "id": "B4bEAT1mKddG"
      },
      "execution_count": null,
      "outputs": []
    },
    {
      "cell_type": "code",
      "source": [
        "training_text = text[0:training_size]\n",
        "testing_text = text[training_size:]\n",
        "training_labels = label[0:training_size]\n",
        "testing_labels = label[training_size:]"
      ],
      "metadata": {
        "id": "IaXKRrMBGqQG"
      },
      "execution_count": null,
      "outputs": []
    },
    {
      "cell_type": "code",
      "source": [
        "print(training_text.shape, testing_text.shape, training_labels.shape, testing_labels.shape)"
      ],
      "metadata": {
        "colab": {
          "base_uri": "https://localhost:8080/"
        },
        "id": "yZZlBk95QbjW",
        "outputId": "642da2d8-2f2d-4e8f-fc4f-f2b9e77999ff"
      },
      "execution_count": null,
      "outputs": [
        {
          "output_type": "stream",
          "name": "stdout",
          "text": [
            "(80000,) (18065,) (80000,) (18065,)\n"
          ]
        }
      ]
    },
    {
      "cell_type": "code",
      "source": [
        "from typing_extensions import Text\n",
        "import tensorflow as tf\n",
        "from tensorflow import keras\n",
        "from tensorflow.keras.preprocessing.text import Tokenizer\n",
        "\n",
        "from tensorflow.keras.preprocessing.sequence import pad_sequences\n",
        "\n",
        "\n",
        "tokenizer = Tokenizer(num_words=vocab_size, oov_token=oov_tok)\n",
        "tokenizer.fit_on_texts(text)\n",
        "\n",
        "word_index = tokenizer.word_index\n",
        "\n",
        "training_sequences = tokenizer.texts_to_sequences(training_text)\n",
        "training_padded = pad_sequences(training_sequences, maxlen=max_length, padding=padding_type, truncating=trunc_type)\n",
        "\n",
        "testing_sequences = tokenizer.texts_to_sequences(testing_text)\n",
        "testing_padded = pad_sequences(testing_sequences, maxlen=max_length, padding=padding_type, truncating=trunc_type)\n"
      ],
      "metadata": {
        "id": "VOSo8NZFEZHP"
      },
      "execution_count": null,
      "outputs": []
    },
    {
      "cell_type": "code",
      "source": [
        "import numpy as np\n",
        "training_padded = np.array(training_padded)\n",
        "training_labels = np.array(training_labels)\n",
        "testing_padded = np.array(testing_padded)\n",
        "testing_labels = np.array(testing_labels)"
      ],
      "metadata": {
        "id": "7AJd_UhNFXrj"
      },
      "execution_count": null,
      "outputs": []
    },
    {
      "cell_type": "code",
      "source": [
        "model = tf.keras.Sequential([\n",
        "    tf.keras.layers.Embedding(vocab_size, embedding_dim, input_length=max_length),\n",
        "    tf.keras.layers.GlobalAveragePooling1D(),\n",
        "    tf.keras.layers.Dense(24, activation='relu'),\n",
        "    tf.keras.layers.Dense(6, activation='softmax')\n",
        "])\n",
        "model.compile(loss='sparse_categorical_crossentropy',optimizer='adam',metrics=['accuracy'])"
      ],
      "metadata": {
        "id": "3BYnKrR_JIxF"
      },
      "execution_count": null,
      "outputs": []
    },
    {
      "cell_type": "code",
      "source": [
        "model.summary()"
      ],
      "metadata": {
        "colab": {
          "base_uri": "https://localhost:8080/"
        },
        "id": "Yw9eNv1iL6i9",
        "outputId": "2d907f40-77b4-458a-e6f1-593e77eac998"
      },
      "execution_count": null,
      "outputs": [
        {
          "output_type": "stream",
          "name": "stdout",
          "text": [
            "Model: \"sequential_5\"\n",
            "_________________________________________________________________\n",
            " Layer (type)                Output Shape              Param #   \n",
            "=================================================================\n",
            " embedding_5 (Embedding)     (None, 3000, 16)          800000    \n",
            "                                                                 \n",
            " global_average_pooling1d_5  (None, 16)                0         \n",
            "  (GlobalAveragePooling1D)                                       \n",
            "                                                                 \n",
            " dense_10 (Dense)            (None, 24)                408       \n",
            "                                                                 \n",
            " dense_11 (Dense)            (None, 6)                 150       \n",
            "                                                                 \n",
            "=================================================================\n",
            "Total params: 800558 (3.05 MB)\n",
            "Trainable params: 800558 (3.05 MB)\n",
            "Non-trainable params: 0 (0.00 Byte)\n",
            "_________________________________________________________________\n"
          ]
        }
      ]
    },
    {
      "cell_type": "code",
      "source": [
        "training_padded.shape"
      ],
      "metadata": {
        "colab": {
          "base_uri": "https://localhost:8080/"
        },
        "id": "z1Oy0j7RO3P9",
        "outputId": "4d537995-7813-40af-b956-0d9a81b5fe9d"
      },
      "execution_count": null,
      "outputs": [
        {
          "output_type": "execute_result",
          "data": {
            "text/plain": [
              "(80000, 3000)"
            ]
          },
          "metadata": {},
          "execution_count": 68
        }
      ]
    },
    {
      "cell_type": "code",
      "source": [
        "testing_padded.shape"
      ],
      "metadata": {
        "colab": {
          "base_uri": "https://localhost:8080/"
        },
        "id": "Ic1gycodPBV8",
        "outputId": "bcd9632b-a517-4ea5-d81c-b0921af7bc72"
      },
      "execution_count": null,
      "outputs": [
        {
          "output_type": "execute_result",
          "data": {
            "text/plain": [
              "(18065, 3000)"
            ]
          },
          "metadata": {},
          "execution_count": 83
        }
      ]
    },
    {
      "cell_type": "code",
      "source": [
        "training_labels.shape"
      ],
      "metadata": {
        "colab": {
          "base_uri": "https://localhost:8080/"
        },
        "id": "kh-u1dFhPHWC",
        "outputId": "a439cd3c-f3d3-4de0-ab0a-55391e5ba06a"
      },
      "execution_count": null,
      "outputs": [
        {
          "output_type": "execute_result",
          "data": {
            "text/plain": [
              "(80000,)"
            ]
          },
          "metadata": {},
          "execution_count": 82
        }
      ]
    },
    {
      "cell_type": "code",
      "source": [
        "testing_labels.shape"
      ],
      "metadata": {
        "colab": {
          "base_uri": "https://localhost:8080/"
        },
        "id": "WdLlc39rPK4D",
        "outputId": "df616a29-837d-43b4-ee42-22ebb1b2a329"
      },
      "execution_count": null,
      "outputs": [
        {
          "output_type": "execute_result",
          "data": {
            "text/plain": [
              "(18065,)"
            ]
          },
          "metadata": {},
          "execution_count": 81
        }
      ]
    },
    {
      "cell_type": "code",
      "source": [
        "num_epochs = 30\n",
        "history = model.fit(training_padded, training_labels, epochs=num_epochs, validation_data=(testing_padded, testing_labels), verbose=1)"
      ],
      "metadata": {
        "colab": {
          "base_uri": "https://localhost:8080/"
        },
        "id": "8XqdZ0mcL-Iy",
        "outputId": "15e16dc4-cc91-42a8-aba6-febf0fb4e29b"
      },
      "execution_count": null,
      "outputs": [
        {
          "output_type": "stream",
          "name": "stdout",
          "text": [
            "Epoch 1/30\n",
            "2500/2500 [==============================] - 48s 19ms/step - loss: 1.5756 - accuracy: 0.3387 - val_loss: 1.5766 - val_accuracy: 0.3362\n",
            "Epoch 2/30\n",
            "2500/2500 [==============================] - 46s 18ms/step - loss: 1.5692 - accuracy: 0.3392 - val_loss: 1.5747 - val_accuracy: 0.3362\n",
            "Epoch 3/30\n",
            "2500/2500 [==============================] - 47s 19ms/step - loss: 1.5663 - accuracy: 0.3399 - val_loss: 1.5696 - val_accuracy: 0.3362\n",
            "Epoch 4/30\n",
            "2500/2500 [==============================] - 52s 21ms/step - loss: 1.5532 - accuracy: 0.3809 - val_loss: 1.5420 - val_accuracy: 0.5108\n",
            "Epoch 5/30\n",
            "2500/2500 [==============================] - 48s 19ms/step - loss: 1.4867 - accuracy: 0.4743 - val_loss: 1.4280 - val_accuracy: 0.5273\n",
            "Epoch 6/30\n",
            "2500/2500 [==============================] - 47s 19ms/step - loss: 1.3076 - accuracy: 0.5594 - val_loss: 1.2026 - val_accuracy: 0.5753\n",
            "Epoch 7/30\n",
            "2500/2500 [==============================] - 47s 19ms/step - loss: 1.0632 - accuracy: 0.6082 - val_loss: 0.9800 - val_accuracy: 0.6388\n",
            "Epoch 8/30\n",
            "2500/2500 [==============================] - 51s 21ms/step - loss: 0.8303 - accuracy: 0.6921 - val_loss: 0.7645 - val_accuracy: 0.7089\n",
            "Epoch 9/30\n",
            "2500/2500 [==============================] - 50s 20ms/step - loss: 0.6641 - accuracy: 0.7709 - val_loss: 0.6209 - val_accuracy: 0.7898\n",
            "Epoch 10/30\n",
            "2500/2500 [==============================] - 49s 20ms/step - loss: 0.5588 - accuracy: 0.8128 - val_loss: 0.5559 - val_accuracy: 0.8237\n",
            "Epoch 11/30\n",
            "2500/2500 [==============================] - 50s 20ms/step - loss: 0.4983 - accuracy: 0.8326 - val_loss: 0.4940 - val_accuracy: 0.8272\n",
            "Epoch 12/30\n",
            "2500/2500 [==============================] - 48s 19ms/step - loss: 0.4533 - accuracy: 0.8479 - val_loss: 0.4834 - val_accuracy: 0.8312\n",
            "Epoch 13/30\n",
            "2500/2500 [==============================] - 48s 19ms/step - loss: 0.4217 - accuracy: 0.8564 - val_loss: 0.4901 - val_accuracy: 0.8272\n",
            "Epoch 14/30\n",
            "2500/2500 [==============================] - 49s 20ms/step - loss: 0.3954 - accuracy: 0.8659 - val_loss: 0.4237 - val_accuracy: 0.8523\n",
            "Epoch 15/30\n",
            "2500/2500 [==============================] - 48s 19ms/step - loss: 0.3763 - accuracy: 0.8701 - val_loss: 0.4132 - val_accuracy: 0.8540\n",
            "Epoch 16/30\n",
            "2500/2500 [==============================] - 46s 18ms/step - loss: 0.3579 - accuracy: 0.8749 - val_loss: 0.4019 - val_accuracy: 0.8547\n",
            "Epoch 17/30\n",
            "2500/2500 [==============================] - 45s 18ms/step - loss: 0.3454 - accuracy: 0.8795 - val_loss: 0.4137 - val_accuracy: 0.8621\n",
            "Epoch 18/30\n",
            "2500/2500 [==============================] - 45s 18ms/step - loss: 0.3313 - accuracy: 0.8850 - val_loss: 0.4214 - val_accuracy: 0.8632\n",
            "Epoch 19/30\n",
            "2500/2500 [==============================] - 46s 19ms/step - loss: 0.3194 - accuracy: 0.8919 - val_loss: 0.3851 - val_accuracy: 0.8703\n",
            "Epoch 20/30\n",
            "2500/2500 [==============================] - 45s 18ms/step - loss: 0.3090 - accuracy: 0.8957 - val_loss: 0.3712 - val_accuracy: 0.8728\n",
            "Epoch 21/30\n",
            "2500/2500 [==============================] - 46s 18ms/step - loss: 0.3032 - accuracy: 0.8991 - val_loss: 0.3770 - val_accuracy: 0.8688\n",
            "Epoch 22/30\n",
            "2500/2500 [==============================] - 46s 18ms/step - loss: 0.2946 - accuracy: 0.9023 - val_loss: 0.4039 - val_accuracy: 0.8671\n",
            "Epoch 23/30\n",
            "2500/2500 [==============================] - 46s 18ms/step - loss: 0.2908 - accuracy: 0.9036 - val_loss: 0.3688 - val_accuracy: 0.8750\n",
            "Epoch 24/30\n",
            "2500/2500 [==============================] - 47s 19ms/step - loss: 0.2850 - accuracy: 0.9071 - val_loss: 0.3692 - val_accuracy: 0.8771\n",
            "Epoch 25/30\n",
            "2500/2500 [==============================] - 47s 19ms/step - loss: 0.2761 - accuracy: 0.9082 - val_loss: 0.4362 - val_accuracy: 0.8507\n",
            "Epoch 26/30\n",
            "2500/2500 [==============================] - 46s 18ms/step - loss: 0.2730 - accuracy: 0.9101 - val_loss: 0.3741 - val_accuracy: 0.8766\n",
            "Epoch 27/30\n",
            "2500/2500 [==============================] - 46s 18ms/step - loss: 0.2671 - accuracy: 0.9117 - val_loss: 0.4216 - val_accuracy: 0.8662\n",
            "Epoch 28/30\n",
            "2500/2500 [==============================] - 45s 18ms/step - loss: 0.2636 - accuracy: 0.9130 - val_loss: 0.4610 - val_accuracy: 0.8564\n",
            "Epoch 29/30\n",
            "2500/2500 [==============================] - 47s 19ms/step - loss: 0.2597 - accuracy: 0.9141 - val_loss: 0.4589 - val_accuracy: 0.8493\n",
            "Epoch 30/30\n",
            "2500/2500 [==============================] - 45s 18ms/step - loss: 0.2551 - accuracy: 0.9158 - val_loss: 0.3762 - val_accuracy: 0.8764\n"
          ]
        }
      ]
    },
    {
      "cell_type": "code",
      "source": [
        "import matplotlib.pyplot as plt\n",
        "\n",
        "\n",
        "def plot_graphs(history, string):\n",
        "  plt.plot(history.history[string])\n",
        "  plt.plot(history.history['val_'+string])\n",
        "  plt.xlabel(\"Epochs\")\n",
        "  plt.ylabel(string)\n",
        "  plt.legend([string, 'val_'+string])\n",
        "  plt.show()\n",
        "\n",
        "plot_graphs(history, \"accuracy\")\n",
        "plot_graphs(history, \"loss\")"
      ],
      "metadata": {
        "colab": {
          "base_uri": "https://localhost:8080/",
          "height": 881
        },
        "id": "JMXnfjW9Xyx1",
        "outputId": "a81d5595-886b-4d8b-aae3-1c54bb6b61ce"
      },
      "execution_count": null,
      "outputs": [
        {
          "output_type": "display_data",
          "data": {
            "text/plain": [
              "<Figure size 640x480 with 1 Axes>"
            ],
            "image/png": "[encoded data removed]"
          },
          "metadata": {}
        },
        {
          "output_type": "display_data",
          "data": {
            "text/plain": [
              "<Figure size 640x480 with 1 Axes>"
            ],
            "image/png": "[encoded data removed]"
          },
          "metadata": {}
        }
      ]
    },
    {
      "cell_type": "code",
      "source": [
        "pred_text = [\"Happy wedded life\", \"Congratulations\", \"You have a beautiful smile\", \"I love you\"]\n",
        "\n",
        "pred_sequences = tokenizer.texts_to_sequences(pred_text)\n",
        "\n",
        "pred_padded = pad_sequences(pred_sequences, maxlen=max_length, padding=padding_type, truncating=trunc_type)\n",
        "\n",
        "\n",
        "# output = model.predict(pred_padded)\n",
        "# print(output)\n",
        "\n",
        "# rounded_output = np.round(output, decimals=4)\n",
        "# print(rounded_output)\n",
        "\n",
        "# Set the printing format to display numbers in decimal form without scientific notation\n",
        "np.set_printoptions(suppress=True)\n",
        "\n",
        "# Print the output of model.predict()\n",
        "print(model.predict(pred_padded))"
      ],
      "metadata": {
        "colab": {
          "base_uri": "https://localhost:8080/"
        },
        "id": "jMHTdQTUYBbk",
        "outputId": "b59507c7-5220-4116-aa12-2c5957d3bebb"
      },
      "execution_count": null,
      "outputs": [
        {
          "output_type": "stream",
          "name": "stdout",
          "text": [
            "1/1 [==============================] - 0s 30ms/step\n",
            "[[0.07664086 0.8962822  0.01390101 0.00091056 0.01170573 0.00055968]\n",
            " [0.26842082 0.68900174 0.00754089 0.00502997 0.02939132 0.00061524]\n",
            " [0.09711865 0.8526758  0.01980549 0.00181506 0.02732448 0.00126058]\n",
            " [0.2778552  0.6491153  0.01046864 0.00744272 0.05393007 0.00118812]]\n"
          ]
        }
      ]
    },
    {
      "cell_type": "markdown",
      "source": [
        "sadness (0), joy (1), love (2), anger (3), fear (4), and surprise (5)"
      ],
      "metadata": {
        "id": "jtE3WPwPiv5Y"
      }
    }
  ]
}