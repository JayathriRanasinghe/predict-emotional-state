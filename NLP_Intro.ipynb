{
  "nbformat": 4,
  "nbformat_minor": 0,
  "metadata": {
    "colab": {
      "provenance": []
    },
    "kernelspec": {
      "name": "python3",
      "display_name": "Python 3"
    },
    "language_info": {
      "name": "python"
    }
  },
  "cells": [
    {
      "cell_type": "code",
      "execution_count": null,
      "metadata": {
        "id": "Na_4MGjx3zMk"
      },
      "outputs": [],
      "source": [
        "import tensorflow as tf\n",
        "from tensorflow import keras\n",
        "from tensorflow.keras.preprocessing.text import Tokenizer\n",
        "\n",
        "from tensorflow.keras.preprocessing.sequence import pad_sequences\n",
        "\n",
        "sentences = ['I love my dog',\n",
        "             'I love my cat',\n",
        "             'I love your dog!',\n",
        "             'I love my sister more than anything in the world.'\n",
        "\n",
        "             ]\n",
        "\n",
        "tokenizer = Tokenizer(num_words = 100, oov_token=\"<OOV>\")\n",
        "tokenizer.fit_on_texts(sentences)\n",
        "word_index = tokenizer.word_index\n",
        "\n",
        "sequences = tokenizer.texts_to_sequences(sentences)\n",
        "\n",
        "# in default padded will add zeros to the front and this can change by adding padding attribute\n",
        "# also we can add a max length here as well\n",
        "padded = pad_sequences(sequences, padding='post')\n",
        "\n",
        "print(word_index)\n",
        "print(sequences)\n",
        "print(padded)\n"
      ]
    },
    {
      "cell_type": "code",
      "source": [
        "test_data = ['I like birds', 'dog and I went to sister\\'s house']\n",
        "\n",
        "test_sequence = tokenizer.texts_to_sequences(test_data)\n",
        "\n",
        "print(test_sequence)"
      ],
      "metadata": {
        "id": "oUlIRE8w66J4"
      },
      "execution_count": null,
      "outputs": []
    }
  ]
}